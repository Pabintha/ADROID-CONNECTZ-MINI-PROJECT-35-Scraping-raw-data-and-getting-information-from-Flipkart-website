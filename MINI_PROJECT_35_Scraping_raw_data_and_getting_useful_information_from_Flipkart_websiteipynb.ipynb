{
  "nbformat": 4,
  "nbformat_minor": 0,
  "metadata": {
    "colab": {
      "provenance": [],
      "authorship_tag": "ABX9TyO506FKKBpjEl5egbf6ROfV"
    },
    "kernelspec": {
      "name": "python3",
      "display_name": "Python 3"
    },
    "language_info": {
      "name": "python"
    }
  },
  "cells": [
    {
      "cell_type": "markdown",
      "source": [
        "**Scraping raw data and getting useful information from Flipkart website**"
      ],
      "metadata": {
        "id": "K_17uJjvVIJh"
      }
    },
    {
      "cell_type": "code",
      "source": [
        "url = 'https://www.flipkart.com/search?q=mobile+phone+5g'"
      ],
      "metadata": {
        "id": "weyPx4ToVhnI"
      },
      "execution_count": 1,
      "outputs": []
    },
    {
      "cell_type": "code",
      "source": [
        "!pip install requests beautifulsoup4\n",
        "import requests\n",
        "from bs4 import BeautifulSoup"
      ],
      "metadata": {
        "colab": {
          "base_uri": "https://localhost:8080/"
        },
        "id": "A3_5vEUvYrlY",
        "outputId": "6b441bff-cbd6-42ba-e224-5925e2531550"
      },
      "execution_count": 7,
      "outputs": [
        {
          "output_type": "stream",
          "name": "stdout",
          "text": [
            "Requirement already satisfied: requests in /usr/local/lib/python3.10/dist-packages (2.27.1)\n",
            "Requirement already satisfied: beautifulsoup4 in /usr/local/lib/python3.10/dist-packages (4.11.2)\n",
            "Requirement already satisfied: urllib3<1.27,>=1.21.1 in /usr/local/lib/python3.10/dist-packages (from requests) (1.26.16)\n",
            "Requirement already satisfied: certifi>=2017.4.17 in /usr/local/lib/python3.10/dist-packages (from requests) (2023.5.7)\n",
            "Requirement already satisfied: charset-normalizer~=2.0.0 in /usr/local/lib/python3.10/dist-packages (from requests) (2.0.12)\n",
            "Requirement already satisfied: idna<4,>=2.5 in /usr/local/lib/python3.10/dist-packages (from requests) (3.4)\n",
            "Requirement already satisfied: soupsieve>1.2 in /usr/local/lib/python3.10/dist-packages (from beautifulsoup4) (2.4.1)\n"
          ]
        }
      ]
    },
    {
      "cell_type": "code",
      "source": [
        "# Make a request to the website\n",
        "response = requests.get(url)\n",
        "\n",
        "# Create a BeautifulSoup object\n",
        "soup = BeautifulSoup(response.text, 'html.parser')\n"
      ],
      "metadata": {
        "id": "_qyeJ6iEYdMg"
      },
      "execution_count": 8,
      "outputs": []
    },
    {
      "cell_type": "markdown",
      "source": [
        "**Print all scraped data**"
      ],
      "metadata": {
        "id": "rZhaR-6ZYflo"
      }
    },
    {
      "cell_type": "code",
      "source": [
        "text = soup.get_text()\n",
        "text"
      ],
      "metadata": {
        "colab": {
          "base_uri": "https://localhost:8080/",
          "height": 244
        },
        "id": "fc9cM31GYftg",
        "outputId": "66c4e153-7c81-4f3c-de7f-697ac40ef497"
      },
      "execution_count": 9,
      "outputs": [
        {
          "output_type": "execute_result",
          "data": {
            "text/plain": [
              "' Mobile Phone 5g- Buy Products Online at Best Price in India - All Categories | Flipkart.com     Explore PlusLoginBecome a Seller More CartFiltersCATEGORIESMobiles & AccessoriesMobilesPrice......Min₹10000₹15000₹20000₹30000to₹10000₹15000₹20000₹30000₹30000+BrandSAMSUNGAPPLErealmePOCOInfinixOPPO145 MORE?Customer Ratings4★ & above3★ & aboveGST Invoice AvailableRAM4 GB3 GB2 GB1GB and Below8 GB and Above6 GBInternal StorageBattery CapacityScreen SizePrimary CameraSecondary CameraProcessor BrandSpecialityResolution TypeOperating SystemNetwork TypeSim TypeOffersBuy More, Save MoreNo Cost EMISpecial PriceFeaturesTypeNumber of CoresAvailabilityDiscount50% or more40% or more30% or more20% or more10% or moreOperating System Version NameClock SpeedHomeMobiles & AccessoriesMobilesShowing 1 – 24 of 5,024 results for \"mobile phone 5g\"Sort ByRelevancePopularityPrice -- Low to HighPrice -- High to LowNewest FirstAdd to CompareSAMSUNG Galaxy F23 5G (Forest Green, 128 GB)4.32,01,686 Ratings\\xa0&\\xa015,471 Reviews6 GB RAM | 128 GB ROM | Expandable Upto 1 TB16.76 cm (6.6 inch) Full HD+ Display50MP + 8MP + 2MP | 8MP Front Camera5000 mAh Lithium Ion BatteryQualcomm Snapdragon 750G Processor1 Year Warranty Provided by the Manufacturer from Date of Purchase₹15,499₹23,99935% offFree delivery by TodayUpto ₹14,950 Off on ExchangeNo Cost EMI from ₹2,584/monthAdd to CompareSAMSUNG Galaxy F23 5G (Aqua Blue, 128 GB)4.32,01,686 Ratings\\xa0&\\xa015,471 Reviews6 GB RAM | 128 GB ROM | Expandable Upto 1 TB16.76 cm (6.6 inch) Full HD+ Display50MP + 8MP + 2MP | 8MP Front Camera5000 mAh Lithium Ion BatteryQualcomm Snapdragon 750G Processor1 Year Warranty Provided by the Manufacturer from Date of Purchase₹15,499₹23,99935% offFree delivery by TodayUpto ₹14,950 Off on ExchangeNo Cost EMI from ₹2,584/monthAdd to ComparePOCO M4 5G (Power Black, 64 GB)4.287,539 Ratings\\xa0&\\xa06,082 Reviews4 GB RAM | 64 GB ROM | Expandable Upto 512 GB16.71 cm (6.58 inch) Full HD+ Display50MP + 2MP | 8MP Front Camera5000 mAh Lithium Ion Polymer BatteryMediatek Dimensity 700 Processor1 Year Warranty for Handset and 6 Months for Accessories₹10,999₹15,99931% offFree delivery by TodayUpto ₹10,450 Off on ExchangeBank OfferAdd to ComparePOCO M4 5G (Power Black, 128 GB)4.244,319 Ratings\\xa0&\\xa03,187 Reviews6 GB RAM | 128 GB ROM | Expandable Upto 512 GB16.71 cm (6.58 inch) Full HD+ Display50MP + 2MP | 8MP Front Camera5000 mAh Lithium Ion Polymer BatteryMediatek Dimensity 700 Processor1 Year Warranty for Handset and 6 Months for Accessories₹12,999₹18,99931% offFree delivery by TodayUpto ₹12,400 Off on ExchangeBank OfferAdd to ComparePOCO M4 5G (Cool Blue, 128 GB)4.244,319 Ratings\\xa0&\\xa03,187 Reviews6 GB RAM | 128 GB ROM | Expandable Upto 512 GB16.71 cm (6.58 inch) Full HD+ Display50MP + 2MP | 8MP Front Camera5000 mAh Lithium Ion Polymer BatteryMediatek Dimensity 700 Processor1 Year Warranty for Handset and 6 Months for Accessories₹12,999₹18,99931% offFree delivery by TodayUpto ₹12,400 Off on ExchangeBank OfferAdd to Comparevivo T2 5G (Velocity Wave, 128 GB)4.46,892 Ratings\\xa0&\\xa0463 Reviews8 GB RAM | 128 GB ROM16.21 cm (6.38 inch) Full HD+ Display64 MP (OIS) + 2MP | 16MP Front Camera4500 mAh BatterySnapdragon 695 Processor1 Year of Device & 6 Months for Inbox Accessories₹20,999₹25,99919% offFree delivery by TodayUpto ₹18,850 Off on ExchangeNo Cost EMI from ₹7,000/monthAdd to ComparePOCO M4 5G (Yellow, 64 GB)4.287,539 Ratings\\xa0&\\xa06,082 Reviews4 GB RAM | 64 GB ROM | Expandable Upto 512 GB16.71 cm (6.58 inch) Full HD+ Display50MP + 2MP | 8MP Front Camera5000 mAh Lithium Ion Polymer BatteryMediatek Dimensity 700 Processor1 Year Warranty for Handset and 6 Months for Accessories₹10,999₹15,99931% offFree delivery by TodayUpto ₹10,450 Off on ExchangeBank OfferAdd to CompareSAMSUNG Galaxy F23 5G (Copper Blush, 128 GB)4.32,01,686 Ratings\\xa0&\\xa015,471 Reviews6 GB RAM | 128 GB ROM | Expandable Upto 1 TB16.76 cm (6.6 inch) Full HD+ Display50MP + 8MP + 2MP | 8MP Front Camera5000 mAh Lithium Ion BatteryQualcomm Snapdragon 750G Processor1 Year Warranty Provided by the Manufacturer from Date of Purchase₹15,499₹23,99935% offFree delivery by TodayUpto ₹14,950 Off on ExchangeNo Cost EMI from ₹2,584/monthAdd to CompareSAMSUNG Galaxy F14 5G (GOAT Green, 128 GB)4.224,463 Ratings\\xa0&\\xa01,909 Reviews6 GB RAM | 128 GB ROM | Expandable Upto 1 TB16.76 cm (6.6 inch) Full HD+ Display50MP + 2MP | 13MP Front Camera6000 mAh BatteryExynos 1330, Octa Core Processor1 Year Manufacturer Warranty for Device and 6 Months Manufacturer Warranty for In-Box Accessories₹13,990₹18,49024% offFree delivery by TodayUpto ₹13,300 Off on ExchangeNo Cost EMI from ₹2,332/monthAdd to ComparePOCO M4 5G (Cool Blue, 64 GB)4.287,539 Ratings\\xa0&\\xa06,082 Reviews4 GB RAM | 64 GB ROM | Expandable Upto 512 GB16.71 cm (6.58 inch) Full HD+ Display50MP + 2MP | 8MP Front Camera5000 mAh Lithium Ion Polymer BatteryMediatek Dimensity 700 Processor1 Year Warranty for Handset and 6 Months for Accessories₹10,999₹15,99931% offFree delivery by TodayUpto ₹10,450 Off on ExchangeBank OfferAdd to CompareSAMSUNG Galaxy F14 5G (OMG Black, 128 GB)4.224,463 Ratings\\xa0&\\xa01,909 Reviews6 GB RAM | 128 GB ROM | Expandable Upto 1 TB16.76 cm (6.6 inch) Full HD+ Display50MP + 2MP | 13MP Front Camera6000 mAh BatteryExynos 1330, Octa Core Processor1 Year Manufacturer Warranty for Device and 6 Months Manufacturer Warranty for In-Box Accessories₹13,990₹18,49024% offFree delivery by TodayUpto ₹13,300 Off on ExchangeNo Cost EMI from ₹2,332/monthAdd to CompareAPPLE iPhone 13 (Blue, 128 GB)4.72,41,204 Ratings\\xa0&\\xa012,124 Reviews128 GB ROM15.49 cm (6.1 inch) Super Retina XDR Display12MP + 12MP | 12MP Front CameraA15 Bionic Chip ProcessorBrand Warranty for 1 Year₹61,999₹69,90011% offFree delivery by TodayDaily SaverUpto ₹38,600 Off on ExchangeAdd to ComparePOCO X5 Pro 5G (Horizon Blue, 256 GB)4.310,705 Ratings\\xa0&\\xa01,091 Reviews8 GB RAM | 256 GB ROM16.94 cm (6.67 inch) Full HD+ Display108MP + 8MP + 2MP | 16MP Front Camera5000 mAh BatteryQualcomm Snapdragon 778G Processor1 Year Manufacturer Warranty for Phone and 6 Months Warranty for in the Box Accessories₹22,999₹28,99920% offFree delivery by TodayUpto ₹20,850 Off on ExchangeNo Cost EMI from ₹3,834/monthAdd to ComparePOCO X5 Pro 5G (Astral Black, 256 GB)4.310,705 Ratings\\xa0&\\xa01,091 Reviews8 GB RAM | 256 GB ROM16.94 cm (6.67 inch) Full HD+ Display108MP + 8MP + 2MP | 16MP Front Camera5000 mAh BatteryQualcomm Snapdragon 778G Processor1 Year Manufacturer Warranty for Phone and 6 Months Warranty for in the Box Accessories₹22,999₹28,99920% offFree delivery by TodayUpto ₹20,850 Off on ExchangeNo Cost EMI from ₹3,834/monthAdd to ComparePOCO X5 5G (Wildcat Blue, 128 GB)4.111,985 Ratings\\xa0&\\xa0907 Reviews6 GB RAM | 128 GB ROM | Expandable Upto 1 TB16.94 cm (6.67 inch) Full HD+ Display48MP + 8MP + 2MP | 13MP Front Camera5000 mAh BatteryQualcomm Snapdragon 695 Processor1 Year Manufacturer Warranty for Phone and 6 Months Warranty for In the Box Accessories₹14,999₹20,99928% offFree delivery by TodayUpto ₹14,400 Off on ExchangeNo Cost EMI from ₹2,500/monthAdd to Comparerealme 10 Pro 5G (Dark Matter, 128 GB)4.324,229 Ratings\\xa0&\\xa01,759 Reviews8 GB RAM | 128 GB ROM | Expandable Upto 1 TB17.07 cm (6.72 inch) Full HD+ Display108MP + 2MP | 16MP Front Camera5000 mAh BatteryQualcomm Snapdragon 695 5G Processor1 Year Manufacturer Warranty for Phone and 6 Months Warranty for In-Box Accessories₹19,999₹22,99913% offAdd to CompareAPPLE iPhone 13 (Midnight, 128 GB)4.72,41,204 Ratings\\xa0&\\xa012,124 Reviews128 GB ROM15.49 cm (6.1 inch) Super Retina XDR Display12MP + 12MP | 12MP Front CameraA15 Bionic Chip ProcessorBrand Warranty for 1 Year₹61,999₹69,90011% offFree delivery by TodayUpto ₹38,600 Off on ExchangeNo Cost EMI from ₹10,334/monthAdd to Comparerealme 10 Pro 5G (Hyperspace, 128 GB)4.324,229 Ratings\\xa0&\\xa01,759 Reviews8 GB RAM | 128 GB ROM | Expandable Upto 1 TB17.07 cm (6.72 inch) Full HD+ Display108MP + 2MP | 16MP Front Camera5000 mAh BatteryQualcomm Snapdragon 695 5G Processor1 Year Manufacturer Warranty for Phone and 6 Months Warranty for In-Box Accessories₹19,999₹22,99913% offFree delivery by TodayDaily SaverUpto ₹19,450 Off on ExchangeAdd to Comparerealme 10 Pro 5G (Nebula Blue, 128 GB)4.324,229 Ratings\\xa0&\\xa01,759 Reviews8 GB RAM | 128 GB ROM | Expandable Upto 1 TB17.07 cm (6.72 inch) Full HD+ Display108MP + 2MP | 16MP Front Camera5000 mAh BatteryQualcomm Snapdragon 695 5G Processor1 Year Manufacturer Warranty for Phone and 6 Months Warranty for In-Box Accessories₹19,999₹22,99913% offFree delivery by TodayDaily SaverUpto ₹19,450 Off on ExchangeAdd to Comparerealme 10 Pro 5G (Nebula Blue, 128 GB)4.331,947 Ratings\\xa0&\\xa02,340 Reviews6 GB RAM | 128 GB ROM | Expandable Upto 1 TB17.07 cm (6.72 inch) Full HD+ Display108MP + 2MP | 16MP Front Camera5000 mAh BatteryQualcomm Snapdragon 695 5G Processor1 Year Manufacturer Warranty for Phone and 6 Months Warranty for In-Box Accessories₹18,999₹20,9999% offAdd to Comparerealme 10 Pro 5G (Hyperspace, 128 GB)4.331,947 Ratings\\xa0&\\xa02,340 Reviews6 GB RAM | 128 GB ROM | Expandable Upto 1 TB17.07 cm (6.72 inch) Full HD+ Display108MP + 2MP | 16MP Front Camera5000 mAh BatteryQualcomm Snapdragon 695 5G Processor1 Year Manufacturer Warranty for Phone and 6 Months Warranty for In-Box Accessories₹18,999₹20,9999% offFree delivery by TodayUpto ₹18,150 Off on ExchangeBank OfferAdd to CompareGoogle Pixel 6a (Charcoal, 128 GB)4.353,860 Ratings\\xa0&\\xa06,423 Reviews6 GB RAM | 128 GB ROM15.6 cm (6.14 inch) Full HD+ Display12.2MP + 12MP | 8MP Front Camera4410 mAh BatteryGoogle Tensor Processor1 Year Brand Warranty₹27,999₹43,99936% offAdd to CompareGoogle Pixel 6a (Chalk, 128 GB)4.353,860 Ratings\\xa0&\\xa06,423 Reviews6 GB RAM | 128 GB ROM15.6 cm (6.14 inch) Full HD+ Display12.2MP + 12MP | 8MP Front Camera4410 mAh BatteryGoogle Tensor Processor1 Year Brand Warranty₹27,999₹43,99936% offAdd to CompareAPPLE iPhone 14 (Starlight, 128 GB)4.642,787 Ratings\\xa0&\\xa01,652 Reviews128 GB ROM15.49 cm (6.1 inch) Super Retina XDR Display12MP + 12MP | 12MP Front CameraA15 Bionic Chip, 6 Core Processor Processor1 Year Warranty for Phone and 6 Months Warranty for In-Box Accessories₹69,999₹79,90012% offFree delivery by TodayDaily SaverUpto ₹38,600 Off on ExchangePage 1 of 21012345678910NextDid you find what you were looking for?YesNoReviews for Popular Mobiles1. SAMSUNG Galaxy F14 5G (OMG ...4.224,463 Ratings&1,909 Reviews₹13,99024% off6 GB RAM | 128 GB ROM | Expandable Upto 1 TB16.76 cm (6.6 inch) Full HD+ Display50MP + 2MP | 13MP Front CameraMost Helpful Review5Best in the market!Awesome product, my father-in-low is so happy with this mobile , easy to use , light weight design ,I happy to see him happyRead full reviewFlipkart CustomerCertified Buyer2 months agoRecent Review1Terrible productAfter one month used, software essue started, worst, mobile don\\'t waste your time and moneyRead full reviewFlipkart CustomerCertified Buyer4 days ago2. vivo T2 5G (Velocity Wave, ...4.46,892 Ratings&463 Reviews₹20,99919% off8 GB RAM | 128 GB ROM16.21 cm (6.38 inch) Full HD+ Display64 MP (OIS) + 2MP | 16MP Front CameraMost Helpful Review5WonderfulMobile style and design okBest camera on this price.Read full reviewSubha  DasCertified Buyer3 months agoRecent Review5Great productVeary nice mobile I like this mobileRead full reviewMohd  AhsanCertified Buyer2 days ago3. realme 10 Pro 5G (Hyperspac...4.331,947 Ratings&2,340 Reviews₹18,9999% off6 GB RAM | 128 GB ROM | Expandable Upto 1 TB17.07 cm (6.72 inch) Full HD+ Display108MP + 2MP | 16MP Front CameraMost Helpful Review5Just wow!I am writing this review after using of 25daysThis is a totally awesome device in this price range 😎Read full reviewFlipkart CustomerCertified Buyer6 months agoRecent Review4Good choiceOverall good for the costRead full reviewKarthikeyan MCertified Buyer2 days ago4. SAMSUNG Galaxy F23 5G (Aqua...4.32,01,686 Ratings&15,471 Reviews₹15,49935% off6 GB RAM | 128 GB ROM | Expandable Upto 1 TB16.76 cm (6.6 inch) Full HD+ Display50MP + 8MP + 2MP | 8MP Front CameraMost Helpful Review5Classy productValue 📱 for money 😌👌🏻 Awesome camera performance ❣️Read full reviewSahanu SawCertified BuyerApr, 2022Recent Review5Highly recommendedValue for money and best processor.Read full reviewNij BhavsarCertified Buyer4 days ago5. Google Pixel 6a (Charcoal, ...4.353,860 Ratings&6,423 Reviews₹27,99936% off6 GB RAM | 128 GB ROM15.6 cm (6.14 inch) Full HD+ Display12.2MP + 12MP | 8MP Front CameraMost Helpful Review5Best in the market!Amazing phone from Google, the excellent camera quality. The phone is trust worthy.Read full reviewpavan madhyastaCertified Buyer11 months agoRecent Review4DelightfulCamera, display, battery, performance are good.Read full reviewManojkumar AraliCertified Buyer3 days agoABOUTContact UsAbout UsCareersFlipkart StoriesPressFlipkart WholesaleCorporate InformationHELPPaymentsShippingCancellation & ReturnsFAQReport InfringementCONSUMER POLICYReturn PolicyTerms Of UseSecurityPrivacySitemapGrievance RedressalEPR ComplianceSOCIALFacebookTwitterYouTubeMail Us:Flipkart Internet Private Limited, \\n Buildings Alyssa, Begonia & \\n Clove Embassy Tech Village, \\n Outer Ring Road, Devarabeesanahalli Village, \\n Bengaluru, 560103, \\n Karnataka, India\\nRegistered Office Address:Flipkart Internet Private Limited, \\n Buildings Alyssa, Begonia & \\n Clove Embassy Tech Village, \\n Outer Ring Road, Devarabeesanahalli Village, \\n Bengaluru, 560103, \\n Karnataka, India \\n CIN : U51109KA2012PTC066107 \\n Telephone: 044-45614700\\nBecome a SellerAdvertiseGift CardsHelp Center© 2007-2023 Flipkart.comBack to top   \\n \\n\\n  '"
            ],
            "application/vnd.google.colaboratory.intrinsic+json": {
              "type": "string"
            }
          },
          "metadata": {},
          "execution_count": 9
        }
      ]
    },
    {
      "cell_type": "markdown",
      "source": [
        "**Single Device Name**"
      ],
      "metadata": {
        "id": "cRmEydEnZQ5A"
      }
    },
    {
      "cell_type": "code",
      "source": [
        "start_word = \"Add to Compare\"\n",
        "end_word = \"(\"\n",
        "start_index = text.find(start_word)\n",
        "end_index = text.find(end_word, start_index + len(start_word))\n",
        "name = ''\n",
        "if start_index != -1 and end_index != -1:\n",
        "    name = text[start_index + len(start_word):end_index].strip()\n",
        "\n",
        "print(name)\n"
      ],
      "metadata": {
        "colab": {
          "base_uri": "https://localhost:8080/"
        },
        "id": "fN9LWnctZSgg",
        "outputId": "5f040dd1-b0f7-49dc-9c2e-ed33bfc4c6b3"
      },
      "execution_count": 10,
      "outputs": [
        {
          "output_type": "stream",
          "name": "stdout",
          "text": [
            "SAMSUNG Galaxy F23 5G\n"
          ]
        }
      ]
    },
    {
      "cell_type": "markdown",
      "source": [
        "**Single Device RAM and ROM**"
      ],
      "metadata": {
        "id": "i5ljmwPRZZHn"
      }
    },
    {
      "cell_type": "code",
      "source": [
        "start_word = \"Reviews\"\n",
        "end_word = \"ROM\"\n",
        "start_index = text.find(start_word)\n",
        "end_index = text.find(end_word, start_index + len(start_word))\n",
        "RAM_ROM = ''\n",
        "if start_index != -1 and end_index != -1:\n",
        "    RAM_ROM = text[start_index + len(start_word):end_index].strip()\n",
        "\n",
        "print(RAM_ROM)\n"
      ],
      "metadata": {
        "colab": {
          "base_uri": "https://localhost:8080/"
        },
        "id": "zOWkXa77ZbOH",
        "outputId": "b930153b-2265-48e7-b987-9d83303b6669"
      },
      "execution_count": 11,
      "outputs": [
        {
          "output_type": "stream",
          "name": "stdout",
          "text": [
            "6 GB RAM | 128 GB\n"
          ]
        }
      ]
    },
    {
      "cell_type": "markdown",
      "source": [
        "**Single Device Rating and Sold**"
      ],
      "metadata": {
        "id": "WLGMbx73ZgXQ"
      }
    },
    {
      "cell_type": "code",
      "source": [
        "start_word = \"GB)\"\n",
        "end_word = \"Ratings\"\n",
        "start_index = text.find(start_word)\n",
        "end_index = text.find(end_word, start_index + len(start_word))\n",
        "Rating_Sold = ''\n",
        "if start_index != -1 and end_index != -1:\n",
        "    Rating_Sold = text[start_index + len(start_word):end_index].strip()\n",
        "\n",
        "print(Rating_Sold)\n"
      ],
      "metadata": {
        "colab": {
          "base_uri": "https://localhost:8080/"
        },
        "id": "Xxbc6otCZhZv",
        "outputId": "8d3e7533-e0bc-44b3-826b-a03381da96b2"
      },
      "execution_count": 12,
      "outputs": [
        {
          "output_type": "stream",
          "name": "stdout",
          "text": [
            "4.32,01,686\n"
          ]
        }
      ]
    },
    {
      "cell_type": "markdown",
      "source": [
        "**Mobile Names**"
      ],
      "metadata": {
        "id": "enlwTSZSZlDB"
      }
    },
    {
      "cell_type": "code",
      "source": [
        "import re\n",
        "\n",
        "start_word = \"Add to Compare\"\n",
        "end_word = \"(\"\n",
        "\n",
        "escaped_start_word = re.escape(start_word)\n",
        "escaped_end_word = re.escape(end_word)\n",
        "\n",
        "pattern = f\"{escaped_start_word}(.*?){escaped_end_word}\"\n",
        "matches = re.finditer(pattern, text)\n",
        "name = []\n",
        "\n",
        "for match in matches:\n",
        "    project = match.group(1).strip()\n",
        "    name.append(project)\n",
        "\n",
        "print(name)\n"
      ],
      "metadata": {
        "colab": {
          "base_uri": "https://localhost:8080/"
        },
        "id": "0xCThd6CZkdh",
        "outputId": "47942ea1-99e2-48c3-f9b7-8a3b26e767d5"
      },
      "execution_count": 13,
      "outputs": [
        {
          "output_type": "stream",
          "name": "stdout",
          "text": [
            "['SAMSUNG Galaxy F23 5G', 'SAMSUNG Galaxy F23 5G', 'POCO M4 5G', 'POCO M4 5G', 'POCO M4 5G', 'vivo T2 5G', 'POCO M4 5G', 'SAMSUNG Galaxy F23 5G', 'SAMSUNG Galaxy F14 5G', 'POCO M4 5G', 'SAMSUNG Galaxy F14 5G', 'APPLE iPhone 13', 'POCO X5 Pro 5G', 'POCO X5 Pro 5G', 'POCO X5 5G', 'realme 10 Pro 5G', 'APPLE iPhone 13', 'realme 10 Pro 5G', 'realme 10 Pro 5G', 'realme 10 Pro 5G', 'realme 10 Pro 5G', 'Google Pixel 6a', 'Google Pixel 6a', 'APPLE iPhone 14']\n"
          ]
        }
      ]
    },
    {
      "cell_type": "code",
      "source": [
        "name"
      ],
      "metadata": {
        "colab": {
          "base_uri": "https://localhost:8080/"
        },
        "id": "glqkbJinZpNw",
        "outputId": "0472563d-d4da-46f8-dade-75a35b2992e7"
      },
      "execution_count": 14,
      "outputs": [
        {
          "output_type": "execute_result",
          "data": {
            "text/plain": [
              "['SAMSUNG Galaxy F23 5G',\n",
              " 'SAMSUNG Galaxy F23 5G',\n",
              " 'POCO M4 5G',\n",
              " 'POCO M4 5G',\n",
              " 'POCO M4 5G',\n",
              " 'vivo T2 5G',\n",
              " 'POCO M4 5G',\n",
              " 'SAMSUNG Galaxy F23 5G',\n",
              " 'SAMSUNG Galaxy F14 5G',\n",
              " 'POCO M4 5G',\n",
              " 'SAMSUNG Galaxy F14 5G',\n",
              " 'APPLE iPhone 13',\n",
              " 'POCO X5 Pro 5G',\n",
              " 'POCO X5 Pro 5G',\n",
              " 'POCO X5 5G',\n",
              " 'realme 10 Pro 5G',\n",
              " 'APPLE iPhone 13',\n",
              " 'realme 10 Pro 5G',\n",
              " 'realme 10 Pro 5G',\n",
              " 'realme 10 Pro 5G',\n",
              " 'realme 10 Pro 5G',\n",
              " 'Google Pixel 6a',\n",
              " 'Google Pixel 6a',\n",
              " 'APPLE iPhone 14']"
            ]
          },
          "metadata": {},
          "execution_count": 14
        }
      ]
    },
    {
      "cell_type": "markdown",
      "source": [
        "**RAM and ROM**"
      ],
      "metadata": {
        "id": "yLTCuJbHZrKg"
      }
    },
    {
      "cell_type": "code",
      "source": [
        "import re\n",
        "\n",
        "start_word = \"Reviews\"\n",
        "end_word = \"ROM\"\n",
        "\n",
        "escaped_start_word = re.escape(start_word)\n",
        "escaped_end_word = re.escape(end_word)\n",
        "\n",
        "pattern = f\"{escaped_start_word}(.*?){escaped_end_word}\"\n",
        "matches = re.finditer(pattern, text)\n",
        "RAM_ROM = []\n",
        "\n",
        "for match in matches:\n",
        "    project = match.group(1).strip()\n",
        "    RAM_ROM.append(project)\n",
        "\n",
        "print(RAM_ROM)\n"
      ],
      "metadata": {
        "colab": {
          "base_uri": "https://localhost:8080/"
        },
        "id": "CSYpo8TQZtVZ",
        "outputId": "db990550-d5eb-45df-8c49-14740cff80a8"
      },
      "execution_count": 15,
      "outputs": [
        {
          "output_type": "stream",
          "name": "stdout",
          "text": [
            "['6 GB RAM | 128 GB', '6 GB RAM | 128 GB', '4 GB RAM | 64 GB', '6 GB RAM | 128 GB', '6 GB RAM | 128 GB', '8 GB RAM | 128 GB', '4 GB RAM | 64 GB', '6 GB RAM | 128 GB', '6 GB RAM | 128 GB', '4 GB RAM | 64 GB', '6 GB RAM | 128 GB', '128 GB', '8 GB RAM | 256 GB', '8 GB RAM | 256 GB', '6 GB RAM | 128 GB', '8 GB RAM | 128 GB', '128 GB', '8 GB RAM | 128 GB', '8 GB RAM | 128 GB', '6 GB RAM | 128 GB', '6 GB RAM | 128 GB', '6 GB RAM | 128 GB', '6 GB RAM | 128 GB', '128 GB', 'for Popular Mobiles1. SAMSUNG Galaxy F14 5G (OMG ...4.224,463 Ratings&1,909 Reviews₹13,99024% off6 GB RAM | 128 GB', '₹20,99919% off8 GB RAM | 128 GB', '₹18,9999% off6 GB RAM | 128 GB', '₹15,49935% off6 GB RAM | 128 GB', '₹27,99936% off6 GB RAM | 128 GB']\n"
          ]
        }
      ]
    },
    {
      "cell_type": "code",
      "source": [
        "RAM_ROM"
      ],
      "metadata": {
        "colab": {
          "base_uri": "https://localhost:8080/"
        },
        "id": "ptGgOVXaZveo",
        "outputId": "44898193-97b7-4947-85e0-af283ce6f584"
      },
      "execution_count": 16,
      "outputs": [
        {
          "output_type": "execute_result",
          "data": {
            "text/plain": [
              "['6 GB RAM | 128 GB',\n",
              " '6 GB RAM | 128 GB',\n",
              " '4 GB RAM | 64 GB',\n",
              " '6 GB RAM | 128 GB',\n",
              " '6 GB RAM | 128 GB',\n",
              " '8 GB RAM | 128 GB',\n",
              " '4 GB RAM | 64 GB',\n",
              " '6 GB RAM | 128 GB',\n",
              " '6 GB RAM | 128 GB',\n",
              " '4 GB RAM | 64 GB',\n",
              " '6 GB RAM | 128 GB',\n",
              " '128 GB',\n",
              " '8 GB RAM | 256 GB',\n",
              " '8 GB RAM | 256 GB',\n",
              " '6 GB RAM | 128 GB',\n",
              " '8 GB RAM | 128 GB',\n",
              " '128 GB',\n",
              " '8 GB RAM | 128 GB',\n",
              " '8 GB RAM | 128 GB',\n",
              " '6 GB RAM | 128 GB',\n",
              " '6 GB RAM | 128 GB',\n",
              " '6 GB RAM | 128 GB',\n",
              " '6 GB RAM | 128 GB',\n",
              " '128 GB',\n",
              " 'for Popular Mobiles1. SAMSUNG Galaxy F14 5G (OMG ...4.224,463 Ratings&1,909 Reviews₹13,99024% off6 GB RAM | 128 GB',\n",
              " '₹20,99919% off8 GB RAM | 128 GB',\n",
              " '₹18,9999% off6 GB RAM | 128 GB',\n",
              " '₹15,49935% off6 GB RAM | 128 GB',\n",
              " '₹27,99936% off6 GB RAM | 128 GB']"
            ]
          },
          "metadata": {},
          "execution_count": 16
        }
      ]
    },
    {
      "cell_type": "markdown",
      "source": [
        "**Sorting Data by removing last 5 elements.**"
      ],
      "metadata": {
        "id": "K5b10geGZyKo"
      }
    },
    {
      "cell_type": "code",
      "source": [
        "new_RAM_ROM = RAM_ROM[:-5]  # Remove the last 5 elements\n",
        "\n",
        "print(new_RAM_ROM)"
      ],
      "metadata": {
        "colab": {
          "base_uri": "https://localhost:8080/"
        },
        "id": "e1DlNXCPZ0KA",
        "outputId": "b6b6dd89-aefd-4da9-a480-5a7ccd78c45a"
      },
      "execution_count": 17,
      "outputs": [
        {
          "output_type": "stream",
          "name": "stdout",
          "text": [
            "['6 GB RAM | 128 GB', '6 GB RAM | 128 GB', '4 GB RAM | 64 GB', '6 GB RAM | 128 GB', '6 GB RAM | 128 GB', '8 GB RAM | 128 GB', '4 GB RAM | 64 GB', '6 GB RAM | 128 GB', '6 GB RAM | 128 GB', '4 GB RAM | 64 GB', '6 GB RAM | 128 GB', '128 GB', '8 GB RAM | 256 GB', '8 GB RAM | 256 GB', '6 GB RAM | 128 GB', '8 GB RAM | 128 GB', '128 GB', '8 GB RAM | 128 GB', '8 GB RAM | 128 GB', '6 GB RAM | 128 GB', '6 GB RAM | 128 GB', '6 GB RAM | 128 GB', '6 GB RAM | 128 GB', '128 GB']\n"
          ]
        }
      ]
    },
    {
      "cell_type": "code",
      "source": [
        "new_RAM_ROM"
      ],
      "metadata": {
        "colab": {
          "base_uri": "https://localhost:8080/"
        },
        "id": "H21WQs2CZ11I",
        "outputId": "226a5273-cbb2-4425-da47-33ff20b69d16"
      },
      "execution_count": 18,
      "outputs": [
        {
          "output_type": "execute_result",
          "data": {
            "text/plain": [
              "['6 GB RAM | 128 GB',\n",
              " '6 GB RAM | 128 GB',\n",
              " '4 GB RAM | 64 GB',\n",
              " '6 GB RAM | 128 GB',\n",
              " '6 GB RAM | 128 GB',\n",
              " '8 GB RAM | 128 GB',\n",
              " '4 GB RAM | 64 GB',\n",
              " '6 GB RAM | 128 GB',\n",
              " '6 GB RAM | 128 GB',\n",
              " '4 GB RAM | 64 GB',\n",
              " '6 GB RAM | 128 GB',\n",
              " '128 GB',\n",
              " '8 GB RAM | 256 GB',\n",
              " '8 GB RAM | 256 GB',\n",
              " '6 GB RAM | 128 GB',\n",
              " '8 GB RAM | 128 GB',\n",
              " '128 GB',\n",
              " '8 GB RAM | 128 GB',\n",
              " '8 GB RAM | 128 GB',\n",
              " '6 GB RAM | 128 GB',\n",
              " '6 GB RAM | 128 GB',\n",
              " '6 GB RAM | 128 GB',\n",
              " '6 GB RAM | 128 GB',\n",
              " '128 GB']"
            ]
          },
          "metadata": {},
          "execution_count": 18
        }
      ]
    },
    {
      "cell_type": "code",
      "source": [
        "modified_RAM_ROM = [element if '|' in element else '0 GB RAM | ' + element for element in new_RAM_ROM]\n",
        "\n",
        "print(modified_RAM_ROM)"
      ],
      "metadata": {
        "colab": {
          "base_uri": "https://localhost:8080/"
        },
        "id": "8UISYJmFZ4hg",
        "outputId": "43fc9541-ae34-4edc-af8a-a7cc0e67a5ca"
      },
      "execution_count": 19,
      "outputs": [
        {
          "output_type": "stream",
          "name": "stdout",
          "text": [
            "['6 GB RAM | 128 GB', '6 GB RAM | 128 GB', '4 GB RAM | 64 GB', '6 GB RAM | 128 GB', '6 GB RAM | 128 GB', '8 GB RAM | 128 GB', '4 GB RAM | 64 GB', '6 GB RAM | 128 GB', '6 GB RAM | 128 GB', '4 GB RAM | 64 GB', '6 GB RAM | 128 GB', '0 GB RAM | 128 GB', '8 GB RAM | 256 GB', '8 GB RAM | 256 GB', '6 GB RAM | 128 GB', '8 GB RAM | 128 GB', '0 GB RAM | 128 GB', '8 GB RAM | 128 GB', '8 GB RAM | 128 GB', '6 GB RAM | 128 GB', '6 GB RAM | 128 GB', '6 GB RAM | 128 GB', '6 GB RAM | 128 GB', '0 GB RAM | 128 GB']\n"
          ]
        }
      ]
    },
    {
      "cell_type": "code",
      "source": [
        "modified_RAM_ROM"
      ],
      "metadata": {
        "colab": {
          "base_uri": "https://localhost:8080/"
        },
        "id": "ul0w4D4-Z6Mg",
        "outputId": "aa5acd02-f88c-4b9a-9f70-e6426e77c41f"
      },
      "execution_count": 20,
      "outputs": [
        {
          "output_type": "execute_result",
          "data": {
            "text/plain": [
              "['6 GB RAM | 128 GB',\n",
              " '6 GB RAM | 128 GB',\n",
              " '4 GB RAM | 64 GB',\n",
              " '6 GB RAM | 128 GB',\n",
              " '6 GB RAM | 128 GB',\n",
              " '8 GB RAM | 128 GB',\n",
              " '4 GB RAM | 64 GB',\n",
              " '6 GB RAM | 128 GB',\n",
              " '6 GB RAM | 128 GB',\n",
              " '4 GB RAM | 64 GB',\n",
              " '6 GB RAM | 128 GB',\n",
              " '0 GB RAM | 128 GB',\n",
              " '8 GB RAM | 256 GB',\n",
              " '8 GB RAM | 256 GB',\n",
              " '6 GB RAM | 128 GB',\n",
              " '8 GB RAM | 128 GB',\n",
              " '0 GB RAM | 128 GB',\n",
              " '8 GB RAM | 128 GB',\n",
              " '8 GB RAM | 128 GB',\n",
              " '6 GB RAM | 128 GB',\n",
              " '6 GB RAM | 128 GB',\n",
              " '6 GB RAM | 128 GB',\n",
              " '6 GB RAM | 128 GB',\n",
              " '0 GB RAM | 128 GB']"
            ]
          },
          "metadata": {},
          "execution_count": 20
        }
      ]
    },
    {
      "cell_type": "markdown",
      "source": [
        "**Split RAM and ROM in 2 differnt sets**"
      ],
      "metadata": {
        "id": "raQpUv1IZ88g"
      }
    },
    {
      "cell_type": "code",
      "source": [
        "\n",
        "RAM = [element.split(\" | \")[0] for element in modified_RAM_ROM]\n",
        "ROM = [element.split(\" | \")[1] for element in modified_RAM_ROM]\n",
        "\n",
        "print(RAM)\n",
        "print(ROM)"
      ],
      "metadata": {
        "colab": {
          "base_uri": "https://localhost:8080/"
        },
        "id": "YzTFAYA2aAUQ",
        "outputId": "b970ab05-cfaa-45f3-eb17-24921389f859"
      },
      "execution_count": 21,
      "outputs": [
        {
          "output_type": "stream",
          "name": "stdout",
          "text": [
            "['6 GB RAM', '6 GB RAM', '4 GB RAM', '6 GB RAM', '6 GB RAM', '8 GB RAM', '4 GB RAM', '6 GB RAM', '6 GB RAM', '4 GB RAM', '6 GB RAM', '0 GB RAM', '8 GB RAM', '8 GB RAM', '6 GB RAM', '8 GB RAM', '0 GB RAM', '8 GB RAM', '8 GB RAM', '6 GB RAM', '6 GB RAM', '6 GB RAM', '6 GB RAM', '0 GB RAM']\n",
            "['128 GB', '128 GB', '64 GB', '128 GB', '128 GB', '128 GB', '64 GB', '128 GB', '128 GB', '64 GB', '128 GB', '128 GB', '256 GB', '256 GB', '128 GB', '128 GB', '128 GB', '128 GB', '128 GB', '128 GB', '128 GB', '128 GB', '128 GB', '128 GB']\n"
          ]
        }
      ]
    },
    {
      "cell_type": "code",
      "source": [
        "RAM_digit = [re.sub(r'\\D', '', element) for element in RAM]\n",
        "\n",
        "print(RAM_digit)"
      ],
      "metadata": {
        "colab": {
          "base_uri": "https://localhost:8080/"
        },
        "id": "0gJfBrOGaCMw",
        "outputId": "76a0bc85-fa68-4123-d5d4-bedccb0cb9ef"
      },
      "execution_count": 22,
      "outputs": [
        {
          "output_type": "stream",
          "name": "stdout",
          "text": [
            "['6', '6', '4', '6', '6', '8', '4', '6', '6', '4', '6', '0', '8', '8', '6', '8', '0', '8', '8', '6', '6', '6', '6', '0']\n"
          ]
        }
      ]
    },
    {
      "cell_type": "code",
      "source": [
        "ROM_digit = [re.sub(r'\\D', '', element) for element in ROM]\n",
        "\n",
        "print(ROM_digit)"
      ],
      "metadata": {
        "colab": {
          "base_uri": "https://localhost:8080/"
        },
        "id": "6v91qS49aDy4",
        "outputId": "556e379c-f44c-4baf-d92d-b935d0d42ee3"
      },
      "execution_count": 23,
      "outputs": [
        {
          "output_type": "stream",
          "name": "stdout",
          "text": [
            "['128', '128', '64', '128', '128', '128', '64', '128', '128', '64', '128', '128', '256', '256', '128', '128', '128', '128', '128', '128', '128', '128', '128', '128']\n"
          ]
        }
      ]
    },
    {
      "cell_type": "markdown",
      "source": [
        "**Rating and Sold Quantity**"
      ],
      "metadata": {
        "id": "XpzAjdLMaH_I"
      }
    },
    {
      "cell_type": "code",
      "source": [
        "import re\n",
        "\n",
        "start_word = \"GB)\"\n",
        "end_word = \"Rating\"\n",
        "\n",
        "escaped_start_word = re.escape(start_word)\n",
        "escaped_end_word = re.escape(end_word)\n",
        "\n",
        "pattern = f\"{escaped_start_word}(.*?){escaped_end_word}\"\n",
        "matches = re.finditer(pattern, text)\n",
        "Rating_and_Sold = []\n",
        "\n",
        "for match in matches:\n",
        "    project = match.group(1).strip()\n",
        "    Rating_and_Sold.append(project)\n",
        "\n",
        "print(Rating_and_Sold)\n"
      ],
      "metadata": {
        "colab": {
          "base_uri": "https://localhost:8080/"
        },
        "id": "9H3Pv27iaJ-Y",
        "outputId": "d80d53d7-d5f1-496f-9dbd-bd9a91b8b6a1"
      },
      "execution_count": 24,
      "outputs": [
        {
          "output_type": "stream",
          "name": "stdout",
          "text": [
            "['4.32,01,686', '4.32,01,686', '4.287,539', '4.244,319', '4.244,319', '4.46,892', '4.287,539', '4.32,01,686', '4.224,463', '4.287,539', '4.224,463', '4.72,41,204', '4.310,705', '4.310,705', '4.111,985', '4.324,229', '4.72,41,204', '4.324,229', '4.324,229', '4.331,947', '4.331,947', '4.353,860', '4.353,860', '4.642,787']\n"
          ]
        }
      ]
    },
    {
      "cell_type": "code",
      "source": [
        "Rating_and_Sold"
      ],
      "metadata": {
        "colab": {
          "base_uri": "https://localhost:8080/"
        },
        "id": "97KBSBy4aNeQ",
        "outputId": "b024f128-4a72-4c3c-c935-af1160612b66"
      },
      "execution_count": 25,
      "outputs": [
        {
          "output_type": "execute_result",
          "data": {
            "text/plain": [
              "['4.32,01,686',\n",
              " '4.32,01,686',\n",
              " '4.287,539',\n",
              " '4.244,319',\n",
              " '4.244,319',\n",
              " '4.46,892',\n",
              " '4.287,539',\n",
              " '4.32,01,686',\n",
              " '4.224,463',\n",
              " '4.287,539',\n",
              " '4.224,463',\n",
              " '4.72,41,204',\n",
              " '4.310,705',\n",
              " '4.310,705',\n",
              " '4.111,985',\n",
              " '4.324,229',\n",
              " '4.72,41,204',\n",
              " '4.324,229',\n",
              " '4.324,229',\n",
              " '4.331,947',\n",
              " '4.331,947',\n",
              " '4.353,860',\n",
              " '4.353,860',\n",
              " '4.642,787']"
            ]
          },
          "metadata": {},
          "execution_count": 25
        }
      ]
    },
    {
      "cell_type": "code",
      "source": [
        "# Splitting into two sets\n",
        "Rating = [element[:3] for element in Rating_and_Sold]\n",
        "Sold = [element[3:] for element in Rating_and_Sold]\n",
        "\n",
        "print(Rating)\n",
        "print(Sold)"
      ],
      "metadata": {
        "colab": {
          "base_uri": "https://localhost:8080/"
        },
        "id": "bylwcf7haPTg",
        "outputId": "f87a03e4-acce-41c0-faba-26a4fbff0181"
      },
      "execution_count": 26,
      "outputs": [
        {
          "output_type": "stream",
          "name": "stdout",
          "text": [
            "['4.3', '4.3', '4.2', '4.2', '4.2', '4.4', '4.2', '4.3', '4.2', '4.2', '4.2', '4.7', '4.3', '4.3', '4.1', '4.3', '4.7', '4.3', '4.3', '4.3', '4.3', '4.3', '4.3', '4.6']\n",
            "['2,01,686', '2,01,686', '87,539', '44,319', '44,319', '6,892', '87,539', '2,01,686', '24,463', '87,539', '24,463', '2,41,204', '10,705', '10,705', '11,985', '24,229', '2,41,204', '24,229', '24,229', '31,947', '31,947', '53,860', '53,860', '42,787']\n"
          ]
        }
      ]
    },
    {
      "cell_type": "code",
      "source": [
        "Rating"
      ],
      "metadata": {
        "colab": {
          "base_uri": "https://localhost:8080/"
        },
        "id": "DgtWPNFFaQrY",
        "outputId": "25b84daf-31f2-4877-d32e-78496ff3c02a"
      },
      "execution_count": 27,
      "outputs": [
        {
          "output_type": "execute_result",
          "data": {
            "text/plain": [
              "['4.3',\n",
              " '4.3',\n",
              " '4.2',\n",
              " '4.2',\n",
              " '4.2',\n",
              " '4.4',\n",
              " '4.2',\n",
              " '4.3',\n",
              " '4.2',\n",
              " '4.2',\n",
              " '4.2',\n",
              " '4.7',\n",
              " '4.3',\n",
              " '4.3',\n",
              " '4.1',\n",
              " '4.3',\n",
              " '4.7',\n",
              " '4.3',\n",
              " '4.3',\n",
              " '4.3',\n",
              " '4.3',\n",
              " '4.3',\n",
              " '4.3',\n",
              " '4.6']"
            ]
          },
          "metadata": {},
          "execution_count": 27
        }
      ]
    },
    {
      "cell_type": "code",
      "source": [
        "Sold"
      ],
      "metadata": {
        "colab": {
          "base_uri": "https://localhost:8080/"
        },
        "id": "L9a9M96SaSKI",
        "outputId": "cd151e00-bb02-4d58-c35a-6a8afc174c7d"
      },
      "execution_count": 28,
      "outputs": [
        {
          "output_type": "execute_result",
          "data": {
            "text/plain": [
              "['2,01,686',\n",
              " '2,01,686',\n",
              " '87,539',\n",
              " '44,319',\n",
              " '44,319',\n",
              " '6,892',\n",
              " '87,539',\n",
              " '2,01,686',\n",
              " '24,463',\n",
              " '87,539',\n",
              " '24,463',\n",
              " '2,41,204',\n",
              " '10,705',\n",
              " '10,705',\n",
              " '11,985',\n",
              " '24,229',\n",
              " '2,41,204',\n",
              " '24,229',\n",
              " '24,229',\n",
              " '31,947',\n",
              " '31,947',\n",
              " '53,860',\n",
              " '53,860',\n",
              " '42,787']"
            ]
          },
          "metadata": {},
          "execution_count": 28
        }
      ]
    },
    {
      "cell_type": "markdown",
      "source": [
        "**Removing all commas**"
      ],
      "metadata": {
        "id": "UH716ojJaUSX"
      }
    },
    {
      "cell_type": "code",
      "source": [
        "# Remove commas from the elements\n",
        "Sold_Data = [element.replace(',', '') for element in Sold]\n",
        "\n",
        "print(Sold_Data)"
      ],
      "metadata": {
        "colab": {
          "base_uri": "https://localhost:8080/"
        },
        "id": "3FY5_k7_aVMY",
        "outputId": "7205fb66-fabd-42b2-c006-e2b28dd3c4f2"
      },
      "execution_count": 29,
      "outputs": [
        {
          "output_type": "stream",
          "name": "stdout",
          "text": [
            "['201686', '201686', '87539', '44319', '44319', '6892', '87539', '201686', '24463', '87539', '24463', '241204', '10705', '10705', '11985', '24229', '241204', '24229', '24229', '31947', '31947', '53860', '53860', '42787']\n"
          ]
        }
      ]
    },
    {
      "cell_type": "code",
      "source": [
        "Sold_Data"
      ],
      "metadata": {
        "colab": {
          "base_uri": "https://localhost:8080/"
        },
        "id": "3KFQhYKAaXog",
        "outputId": "31bb54c8-ab43-4b40-df8e-9389a2b114bd"
      },
      "execution_count": 30,
      "outputs": [
        {
          "output_type": "execute_result",
          "data": {
            "text/plain": [
              "['201686',\n",
              " '201686',\n",
              " '87539',\n",
              " '44319',\n",
              " '44319',\n",
              " '6892',\n",
              " '87539',\n",
              " '201686',\n",
              " '24463',\n",
              " '87539',\n",
              " '24463',\n",
              " '241204',\n",
              " '10705',\n",
              " '10705',\n",
              " '11985',\n",
              " '24229',\n",
              " '241204',\n",
              " '24229',\n",
              " '24229',\n",
              " '31947',\n",
              " '31947',\n",
              " '53860',\n",
              " '53860',\n",
              " '42787']"
            ]
          },
          "metadata": {},
          "execution_count": 30
        }
      ]
    },
    {
      "cell_type": "markdown",
      "source": [
        "**Exporting the final CSV**"
      ],
      "metadata": {
        "id": "T7Y2qDURabnH"
      }
    },
    {
      "cell_type": "code",
      "source": [
        "import csv"
      ],
      "metadata": {
        "id": "eEzD8K4PaZ7w"
      },
      "execution_count": 31,
      "outputs": []
    },
    {
      "cell_type": "code",
      "source": [
        "data = zip(name ,RAM_digit, ROM_digit, Sold_Data, Rating)\n",
        "\n",
        "filename = 'data.csv'\n",
        "\n",
        "with open(filename, 'w', newline='') as csvfile:\n",
        "    writer = csv.writer(csvfile)\n",
        "    writer.writerow(['Name', 'RAM', 'ROM', 'Sold Quantity', 'Rating'])  # Write header row\n",
        "    writer.writerows(data)\n",
        "\n",
        "print(f\"Data has been written to {filename}.\")"
      ],
      "metadata": {
        "colab": {
          "base_uri": "https://localhost:8080/"
        },
        "id": "jslaf3Qpaeyg",
        "outputId": "9312ab1f-a0c9-48e0-e807-24e10e9bcac1"
      },
      "execution_count": 33,
      "outputs": [
        {
          "output_type": "stream",
          "name": "stdout",
          "text": [
            "Data has been written to data.csv.\n"
          ]
        }
      ]
    }
  ]
}